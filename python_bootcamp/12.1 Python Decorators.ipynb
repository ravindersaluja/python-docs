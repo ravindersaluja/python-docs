{
 "cells": [
  {
   "cell_type": "markdown",
   "id": "116084e3",
   "metadata": {},
   "source": [
    "## Creating assigned functions - Function assigned to variable"
   ]
  },
  {
   "cell_type": "code",
   "execution_count": 1,
   "id": "21dbf4a6",
   "metadata": {},
   "outputs": [],
   "source": [
    "def foo():\n",
    "    return 1"
   ]
  },
  {
   "cell_type": "code",
   "execution_count": 2,
   "id": "9ab984ac",
   "metadata": {},
   "outputs": [
    {
     "data": {
      "text/plain": [
       "1"
      ]
     },
     "execution_count": 2,
     "metadata": {},
     "output_type": "execute_result"
    }
   ],
   "source": [
    "foo()"
   ]
  },
  {
   "cell_type": "code",
   "execution_count": 3,
   "id": "7aa4afca",
   "metadata": {},
   "outputs": [],
   "source": [
    "# Assigning a function to another function creates a copy and not just a reference. See code below!\n",
    "boo = foo"
   ]
  },
  {
   "cell_type": "code",
   "execution_count": 4,
   "id": "47b15aa5",
   "metadata": {},
   "outputs": [
    {
     "data": {
      "text/plain": [
       "1"
      ]
     },
     "execution_count": 4,
     "metadata": {},
     "output_type": "execute_result"
    }
   ],
   "source": [
    "boo()"
   ]
  },
  {
   "cell_type": "code",
   "execution_count": 6,
   "id": "db109045",
   "metadata": {},
   "outputs": [],
   "source": [
    "del foo"
   ]
  },
  {
   "cell_type": "code",
   "execution_count": 7,
   "id": "92688ee1",
   "metadata": {},
   "outputs": [
    {
     "data": {
      "text/plain": [
       "1"
      ]
     },
     "execution_count": 7,
     "metadata": {},
     "output_type": "execute_result"
    }
   ],
   "source": [
    "boo()"
   ]
  },
  {
   "cell_type": "code",
   "execution_count": 8,
   "id": "e2cf3524",
   "metadata": {},
   "outputs": [],
   "source": [
    "def foo():\n",
    "    return 'this is foo'"
   ]
  },
  {
   "cell_type": "code",
   "execution_count": 9,
   "id": "57b70995",
   "metadata": {},
   "outputs": [
    {
     "data": {
      "text/plain": [
       "'this is foo'"
      ]
     },
     "execution_count": 9,
     "metadata": {},
     "output_type": "execute_result"
    }
   ],
   "source": [
    "foo()"
   ]
  },
  {
   "cell_type": "markdown",
   "id": "a3d5360c",
   "metadata": {},
   "source": [
    "## Function inside a function"
   ]
  },
  {
   "cell_type": "code",
   "execution_count": 18,
   "id": "fd40029d",
   "metadata": {},
   "outputs": [],
   "source": [
    "def foo():\n",
    "    def boo():\n",
    "        return 2\n",
    "    print(boo())\n",
    "    return 5"
   ]
  },
  {
   "cell_type": "code",
   "execution_count": 19,
   "id": "4b965ed0",
   "metadata": {},
   "outputs": [
    {
     "name": "stdout",
     "output_type": "stream",
     "text": [
      "2\n"
     ]
    },
    {
     "data": {
      "text/plain": [
       "5"
      ]
     },
     "execution_count": 19,
     "metadata": {},
     "output_type": "execute_result"
    }
   ],
   "source": [
    "foo()"
   ]
  },
  {
   "cell_type": "markdown",
   "id": "8a2b2019",
   "metadata": {},
   "source": [
    "## Function returning a function"
   ]
  },
  {
   "cell_type": "code",
   "execution_count": 54,
   "id": "023bbfed",
   "metadata": {},
   "outputs": [],
   "source": [
    "def foo(fn_name = 'boo'):\n",
    "    def boo():\n",
    "        return 1\n",
    "    def zoo():\n",
    "        return 2\n",
    "    return boo if fn_name == 'boo' else zoo if fn_name == 'zoo' else lambda: 3"
   ]
  },
  {
   "cell_type": "code",
   "execution_count": 57,
   "id": "20b5c9da",
   "metadata": {},
   "outputs": [
    {
     "data": {
      "text/plain": [
       "3"
      ]
     },
     "execution_count": 57,
     "metadata": {},
     "output_type": "execute_result"
    }
   ],
   "source": [
    "# Notice this has been called twice since, \n",
    "# first call will just return the inner function and \n",
    "# second call will return the inner function call\n",
    "foo('koo')()"
   ]
  },
  {
   "cell_type": "code",
   "execution_count": 59,
   "id": "86e993de",
   "metadata": {},
   "outputs": [
    {
     "data": {
      "text/plain": [
       "3"
      ]
     },
     "execution_count": 59,
     "metadata": {},
     "output_type": "execute_result"
    }
   ],
   "source": [
    "# Another way would be\n",
    "foo1 = foo('koo')\n",
    "foo1()"
   ]
  },
  {
   "cell_type": "markdown",
   "id": "86723244",
   "metadata": {},
   "source": [
    "## Decorators"
   ]
  },
  {
   "cell_type": "code",
   "execution_count": 60,
   "id": "bc4a8ba7",
   "metadata": {},
   "outputs": [],
   "source": [
    "def foo():\n",
    "    return 1"
   ]
  },
  {
   "cell_type": "code",
   "execution_count": 66,
   "id": "70c54a45",
   "metadata": {},
   "outputs": [],
   "source": [
    "def zoo(x):\n",
    "    return x()"
   ]
  },
  {
   "cell_type": "code",
   "execution_count": 68,
   "id": "88139b87",
   "metadata": {},
   "outputs": [
    {
     "data": {
      "text/plain": [
       "1"
      ]
     },
     "execution_count": 68,
     "metadata": {},
     "output_type": "execute_result"
    }
   ],
   "source": [
    "# foo is getting called inside zoo, when zoo is returning by calling foo\n",
    "zoo(foo)"
   ]
  },
  {
   "cell_type": "code",
   "execution_count": 105,
   "id": "9f964724",
   "metadata": {},
   "outputs": [],
   "source": [
    "def decorator(func_to_be_decorated):\n",
    "    def internal_fn():\n",
    "        print('random code 1')\n",
    "        func_to_be_decorated()\n",
    "        print('random code n')\n",
    "    return internal_fn"
   ]
  },
  {
   "cell_type": "code",
   "execution_count": 106,
   "id": "059b8501",
   "metadata": {},
   "outputs": [],
   "source": [
    "def foo():\n",
    "    print('random code 2')"
   ]
  },
  {
   "cell_type": "code",
   "execution_count": 107,
   "id": "2db90299",
   "metadata": {},
   "outputs": [
    {
     "name": "stdout",
     "output_type": "stream",
     "text": [
      "random code 2\n"
     ]
    }
   ],
   "source": [
    "foo()"
   ]
  },
  {
   "cell_type": "code",
   "execution_count": 108,
   "id": "1e49168b",
   "metadata": {},
   "outputs": [
    {
     "name": "stdout",
     "output_type": "stream",
     "text": [
      "random code 1\n",
      "random code 2\n",
      "random code n\n"
     ]
    }
   ],
   "source": [
    "# Manual decorator\n",
    "decorator(foo)()\n",
    "# or\n",
    "# md = decorator(foo)\n",
    "# md()"
   ]
  },
  {
   "cell_type": "code",
   "execution_count": 109,
   "id": "5a028a51",
   "metadata": {},
   "outputs": [],
   "source": [
    "# Using Python Decorators\n",
    "@decorator\n",
    "def foo():\n",
    "    print('random code 2')"
   ]
  },
  {
   "cell_type": "code",
   "execution_count": 110,
   "id": "5a0ef983",
   "metadata": {},
   "outputs": [
    {
     "name": "stdout",
     "output_type": "stream",
     "text": [
      "random code 1\n",
      "random code 2\n",
      "random code n\n"
     ]
    }
   ],
   "source": [
    "foo()"
   ]
  },
  {
   "cell_type": "code",
   "execution_count": 120,
   "id": "49eeb0c9",
   "metadata": {},
   "outputs": [
    {
     "name": "stdout",
     "output_type": "stream",
     "text": [
      "random code 1\n",
      "random code 1\n",
      "random code 2\n",
      "random code n\n",
      "random code n\n"
     ]
    }
   ],
   "source": [
    "# By adding the decorator, the double calling can be avoided\n",
    "# This below code is calling decorator inside a decorator\n",
    "# In the o/p - 1st and last lines are from manual decorator, in between 3 lines are from the @decorator fn\n",
    "decorator(foo)()"
   ]
  },
  {
   "cell_type": "code",
   "execution_count": null,
   "id": "93aff088",
   "metadata": {},
   "outputs": [],
   "source": []
  }
 ],
 "metadata": {
  "kernelspec": {
   "display_name": "Python 3 (ipykernel)",
   "language": "python",
   "name": "python3"
  },
  "language_info": {
   "codemirror_mode": {
    "name": "ipython",
    "version": 3
   },
   "file_extension": ".py",
   "mimetype": "text/x-python",
   "name": "python",
   "nbconvert_exporter": "python",
   "pygments_lexer": "ipython3",
   "version": "3.9.7"
  },
  "toc": {
   "base_numbering": 1,
   "nav_menu": {},
   "number_sections": true,
   "sideBar": true,
   "skip_h1_title": false,
   "title_cell": "Table of Contents",
   "title_sidebar": "Contents",
   "toc_cell": false,
   "toc_position": {},
   "toc_section_display": true,
   "toc_window_display": true
  },
  "varInspector": {
   "cols": {
    "lenName": 16,
    "lenType": 16,
    "lenVar": 40
   },
   "kernels_config": {
    "python": {
     "delete_cmd_postfix": "",
     "delete_cmd_prefix": "del ",
     "library": "var_list.py",
     "varRefreshCmd": "print(var_dic_list())"
    },
    "r": {
     "delete_cmd_postfix": ") ",
     "delete_cmd_prefix": "rm(",
     "library": "var_list.r",
     "varRefreshCmd": "cat(var_dic_list()) "
    }
   },
   "types_to_exclude": [
    "module",
    "function",
    "builtin_function_or_method",
    "instance",
    "_Feature"
   ],
   "window_display": false
  }
 },
 "nbformat": 4,
 "nbformat_minor": 5
}
